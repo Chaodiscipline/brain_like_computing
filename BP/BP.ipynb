{
 "cells": [
  {
   "cell_type": "code",
   "execution_count": 1,
   "metadata": {},
   "outputs": [],
   "source": [
    "import numpy as np"
   ]
  },
  {
   "cell_type": "code",
   "execution_count": 2,
   "metadata": {
    "collapsed": true
   },
   "outputs": [
    {
     "name": "stdout",
     "output_type": "stream",
     "text": [
      "76\n",
      "[[0.10042141 0.75780618]\n",
      " [0.40108364 0.49150162]]\n",
      "[[-0.29424211  0.32739909]]\n",
      "[[0.50309108]]\n"
     ]
    }
   ],
   "source": [
    "def sigmoid(x):\n",
    "   return 1/(1+np.exp(-x))\n",
    "\n",
    "input = np.array([[0.35], [0.9]]) #输入数据\n",
    "w1 = np.array([[0.1, 0.8], [0.4, 0.6]])\n",
    "w2 = np.array([0.3, 0.9])\n",
    " \n",
    "real = np.array([[0.5]])#真实值\n",
    "for s in range(100):\n",
    "    L2 = sigmoid(np.dot(w1,input))\n",
    "    output = sigmoid(np.dot(w2,L2))\n",
    "    e = output-real \n",
    "    if np.square(e)<0.00001:\n",
    "        print(s)\n",
    "        break\n",
    "    else:\n",
    "        w2 = w2 - e*output*(1-output)*L2.T\n",
    "        w1 = w1 - e*output*(1-output)*w2*L2.T*(1-L2.T)*input\n",
    "\n",
    "\n",
    "#输出最终结果\n",
    "print(w1)\n",
    "print(w2) \n",
    "print(output)"
   ]
  }
 ],
 "metadata": {
  "kernelspec": {
   "display_name": "Python 3",
   "language": "python",
   "name": "python3"
  },
  "language_info": {
   "codemirror_mode": {
    "name": "ipython",
    "version": 3
   },
   "file_extension": ".py",
   "mimetype": "text/x-python",
   "name": "python",
   "nbconvert_exporter": "python",
   "pygments_lexer": "ipython3",
   "version": "3.7.3"
  },
  "varInspector": {
   "cols": {
    "lenName": 16,
    "lenType": 16,
    "lenVar": 40
   },
   "kernels_config": {
    "python": {
     "delete_cmd_postfix": "",
     "delete_cmd_prefix": "del ",
     "library": "var_list.py",
     "varRefreshCmd": "print(var_dic_list())"
    },
    "r": {
     "delete_cmd_postfix": ") ",
     "delete_cmd_prefix": "rm(",
     "library": "var_list.r",
     "varRefreshCmd": "cat(var_dic_list()) "
    }
   },
   "oldHeight": 122.4,
   "position": {
    "height": "40px",
    "left": "497.2px",
    "right": "20px",
    "top": "120px",
    "width": "250px"
   },
   "types_to_exclude": [
    "module",
    "function",
    "builtin_function_or_method",
    "instance",
    "_Feature"
   ],
   "varInspector_section_display": "none",
   "window_display": true
  }
 },
 "nbformat": 4,
 "nbformat_minor": 2
}
