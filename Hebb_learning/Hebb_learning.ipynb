{
 "cells": [
  {
   "cell_type": "code",
   "execution_count": 1,
   "metadata": {},
   "outputs": [],
   "source": [
    "import numpy as np"
   ]
  },
  {
   "cell_type": "code",
   "execution_count": 65,
   "metadata": {},
   "outputs": [
    {
     "name": "stdout",
     "output_type": "stream",
     "text": [
      " *** \n",
      "*   *\n",
      "*   *\n",
      "*   *\n",
      "*   *\n",
      " *** \n"
     ]
    }
   ],
   "source": [
    "# 数字点阵\n",
    "zero = [\n",
    "    -1, 1, 1, 1, -1,\n",
    "    1, -1, -1, -1, 1,\n",
    "    1, -1, -1, -1, 1,\n",
    "    1, -1, -1, -1, 1,\n",
    "    1, -1, -1, -1, 1,\n",
    "    -1, 1, 1, 1, -1\n",
    "    ]\n",
    "\n",
    "one = [\n",
    "    -1, 1, 1, -1, -1,\n",
    "    -1, -1, 1, -1, -1,\n",
    "    -1, -1, 1, -1, -1,\n",
    "    -1, -1, 1, -1, -1,\n",
    "    -1, -1, 1, -1, -1,\n",
    "    -1, -1, 1, -1, -1\n",
    "    ]\n",
    "\n",
    "two = [\n",
    "    1, -1, 1, -1, -1,\n",
    "    -1, -1, -1, 1, -1,\n",
    "    -1, -1, -1, 1, -1,\n",
    "    -1, 1, 1, -1, -1,\n",
    "    1, -1, -1, -1, -1,\n",
    "    1, 1, 1, 1, 1,\n",
    "    ]\n",
    "\n",
    "half_zero = [\n",
    "        1, 1, 1, 1, 1,\n",
    "        1, -1, -1, -1, 1,\n",
    "        1, -1, 1, -1, 1,\n",
    "        1, -1, -1, -1, 1,\n",
    "        -1, -1, -1, -1, -1,\n",
    "        -1, -1, -1, -1, -1,\n",
    "        ]\n",
    "\n",
    "def printNum(Num):\n",
    "#     a = np.asarray(Num)\n",
    "    b = ['*' if i==1 else ' ' for i in Num]\n",
    "    for i in range(6):\n",
    "        print(''.join(b[:5]))\n",
    "        b = b[5:]\n",
    "        \n",
    "printNum(zero)"
   ]
  },
  {
   "cell_type": "code",
   "execution_count": 60,
   "metadata": {},
   "outputs": [],
   "source": [
    "class Hebb():\n",
    "    def __init__(self, n):\n",
    "        self.W = np.zeros((n,n))\n",
    "        \n",
    "    def predict(self, inputNum):\n",
    "        pre = np.dot(self.W, np.asarray(inputNum))\n",
    "#         pre = self.W.dot(np.matrix(inputNum).getT())\n",
    "        pre[pre>=0] = 1\n",
    "        pre[pre<0] = -1\n",
    "        return pre\n",
    "    \n",
    "    def train(self, trainNum, iteration, eta):\n",
    "        for i in range(iteration):\n",
    "            for Num in trainNum:\n",
    "                Num = np.asarray(Num).reshape(1,30)\n",
    "                self.W += eta * np.dot(Num.T, Num)\n",
    "        return self.W"
   ]
  },
  {
   "cell_type": "code",
   "execution_count": 61,
   "metadata": {},
   "outputs": [],
   "source": [
    "# 训练\n",
    "hebb = Hebb(6*5)\n",
    "w = hebb.train([zero, one, two], 600, 0.2)"
   ]
  },
  {
   "cell_type": "markdown",
   "metadata": {},
   "source": [
    "# 测试"
   ]
  },
  {
   "cell_type": "code",
   "execution_count": 73,
   "metadata": {
    "scrolled": true
   },
   "outputs": [
    {
     "name": "stdout",
     "output_type": "stream",
     "text": [
      "[-1.  1.  1.  1. -1.  1. -1. -1. -1.  1.  1. -1. -1. -1.  1.  1. -1. -1.\n",
      " -1.  1.  1. -1. -1. -1.  1. -1.  1.  1.  1. -1.]\n",
      "half_zero测试：\n",
      "*****\n",
      "*   *\n",
      "* * *\n",
      "*   *\n",
      "     \n",
      "     \n",
      " *** \n",
      "*   *\n",
      "*   *\n",
      "*   *\n",
      "*   *\n",
      " *** \n",
      "one随机噪声测试：\n",
      " *   \n",
      " *  *\n",
      "* *  \n",
      "     \n",
      "  ** \n",
      "**   \n",
      " **  \n",
      "  *  \n",
      "  *  \n",
      "  *  \n",
      "  *  \n",
      "  *  \n",
      "two随机噪声测试：\n",
      "* ** \n",
      "  ***\n",
      "   * \n",
      " *   \n",
      "**   \n",
      "**** \n",
      "* *  \n",
      "   * \n",
      "   * \n",
      " **  \n",
      "*    \n",
      "*****\n"
     ]
    }
   ],
   "source": [
    "# half测试\n",
    "preHz = hebb.predict(half_zero)\n",
    "print(preHz)\n",
    "print(\"half_zero测试：\")\n",
    "printNum(half_zero)\n",
    "printNum(preHz)\n",
    "         \n",
    "# 随机噪声测试\n",
    "def addNoise(originNum, noiseSize):\n",
    "    noiseNum = np.asarray(originNum)\n",
    "    noisePosition = np.random.randint(30, size=noiseSize)\n",
    "    for i in noisePosition:\n",
    "        if noiseNum[i]==-1:\n",
    "            noiseNum[i] = 1\n",
    "        else:\n",
    "            noiseNum[i] = -1\n",
    "    return noiseNum\n",
    "         \n",
    "noiseOne = addNoise(one, 10)\n",
    "print(\"one随机噪声测试：\")\n",
    "printNum(noiseOne)\n",
    "printNum(hebb.predict(noiseOne))\n",
    "\n",
    "noiseTwo = addNoise(two, 10)\n",
    "print(\"two随机噪声测试：\")\n",
    "printNum(noiseTwo)\n",
    "printNum(hebb.predict(noiseTwo))"
   ]
  },
  {
   "cell_type": "code",
   "execution_count": null,
   "metadata": {},
   "outputs": [],
   "source": []
  }
 ],
 "metadata": {
  "kernelspec": {
   "display_name": "Python 3",
   "language": "python",
   "name": "python3"
  },
  "language_info": {
   "codemirror_mode": {
    "name": "ipython",
    "version": 3
   },
   "file_extension": ".py",
   "mimetype": "text/x-python",
   "name": "python",
   "nbconvert_exporter": "python",
   "pygments_lexer": "ipython3",
   "version": "3.6.2"
  }
 },
 "nbformat": 4,
 "nbformat_minor": 2
}
