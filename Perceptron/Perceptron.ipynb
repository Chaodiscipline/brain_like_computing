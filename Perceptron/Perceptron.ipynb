{
 "cells": [
  {
   "cell_type": "code",
   "execution_count": 7,
   "metadata": {},
   "outputs": [],
   "source": [
    "import numpy as np"
   ]
  },
  {
   "cell_type": "markdown",
   "metadata": {},
   "source": [
    "# Perceptron"
   ]
  },
  {
   "cell_type": "code",
   "execution_count": 46,
   "metadata": {},
   "outputs": [],
   "source": [
    "class Perceptron():\n",
    "    def __init__(self, length, operation):  \n",
    "        self.W = np.random.randn(length)  # shape (length,)\n",
    "        self.b = 0\n",
    "        self.lr = 0.01\n",
    "        self.epochs = 1000\n",
    "        self.length = length\n",
    "        self.data = np.zeros((2**length, length))\n",
    "        self.label = np.zeros((2**length))\n",
    "        self.operation = operation\n",
    "        \n",
    "    # 真值表\n",
    "    def truthTable(self):\n",
    "        for j in range(self.length): # 第j列\n",
    "            a = 0\n",
    "            b = 2 **(self.length-1-j)\n",
    "            for k in range(2**j):\n",
    "                if b <= 2** self.length:\n",
    "                    self.data[range(a,b),j] = 1\n",
    "                    interval = 2**(self.length-j)\n",
    "                    a += interval\n",
    "                    b += interval\n",
    "        print('truthTable:\\n',self.data)\n",
    "        \n",
    "        if self.operation == 'and':\n",
    "            self.label[0] = 1 \n",
    "        elif self.operation == 'or':\n",
    "            self.label[range(2**self.length-1)] = 1\n",
    "        print('\\nlabel:\\n',self.label)\n",
    "                    \n",
    "    def predict(self, data):\n",
    "        self.output = np.dot(data, self.W) + self.b \n",
    "        self.output[self.output>=0] = 1\n",
    "        self.output[self.output<0] = 0\n",
    "        return self.output\n",
    "        \n",
    "    def train(self):\n",
    "        # 重置参数\n",
    "        self.W = np.random.randn(self.length)\n",
    "        self.b = 0\n",
    "        self.truthTable()\n",
    "        for t in range(self.epochs):\n",
    "            for k in range(2**self.length):\n",
    "                self.predict(self.data)\n",
    "                self.W += self.lr*(self.label[k]-self.output[k])*self.data[k]\n",
    "                self.b += self.lr*(self.label[k]-self.output[k])\n",
    "\n",
    "        return self.W,self.b"
   ]
  },
  {
   "cell_type": "markdown",
   "metadata": {},
   "source": [
    "# 训练"
   ]
  },
  {
   "cell_type": "code",
   "execution_count": 54,
   "metadata": {
    "collapsed": true
   },
   "outputs": [
    {
     "name": "stdout",
     "output_type": "stream",
     "text": [
      "truthTable:\n",
      " [[1. 1. 1. 1. 1.]\n",
      " [1. 1. 1. 1. 0.]\n",
      " [1. 1. 1. 0. 1.]\n",
      " [1. 1. 1. 0. 0.]\n",
      " [1. 1. 0. 1. 1.]\n",
      " [1. 1. 0. 1. 0.]\n",
      " [1. 1. 0. 0. 1.]\n",
      " [1. 1. 0. 0. 0.]\n",
      " [1. 0. 1. 1. 1.]\n",
      " [1. 0. 1. 1. 0.]\n",
      " [1. 0. 1. 0. 1.]\n",
      " [1. 0. 1. 0. 0.]\n",
      " [1. 0. 0. 1. 1.]\n",
      " [1. 0. 0. 1. 0.]\n",
      " [1. 0. 0. 0. 1.]\n",
      " [1. 0. 0. 0. 0.]\n",
      " [0. 1. 1. 1. 1.]\n",
      " [0. 1. 1. 1. 0.]\n",
      " [0. 1. 1. 0. 1.]\n",
      " [0. 1. 1. 0. 0.]\n",
      " [0. 1. 0. 1. 1.]\n",
      " [0. 1. 0. 1. 0.]\n",
      " [0. 1. 0. 0. 1.]\n",
      " [0. 1. 0. 0. 0.]\n",
      " [0. 0. 1. 1. 1.]\n",
      " [0. 0. 1. 1. 0.]\n",
      " [0. 0. 1. 0. 1.]\n",
      " [0. 0. 1. 0. 0.]\n",
      " [0. 0. 0. 1. 1.]\n",
      " [0. 0. 0. 1. 0.]\n",
      " [0. 0. 0. 0. 1.]\n",
      " [0. 0. 0. 0. 0.]]\n",
      "\n",
      "label:\n",
      " [1. 1. 1. 1. 1. 1. 1. 1. 1. 1. 1. 1. 1. 1. 1. 1. 1. 1. 1. 1. 1. 1. 1. 1.\n",
      " 1. 1. 1. 1. 1. 1. 1. 0.]\n",
      "\n",
      "W:\n",
      " [1.42561542 0.81700386 0.31093223 0.75378878 0.01692054]\n",
      "\n",
      "b:\n",
      " -0.01\n"
     ]
    }
   ],
   "source": [
    "per = Perceptron(5, 'or')\n",
    "W, b = per.train()\n",
    "print('\\nW:\\n',W)\n",
    "print('\\nb:\\n',b)"
   ]
  },
  {
   "cell_type": "markdown",
   "metadata": {},
   "source": [
    "# 测试"
   ]
  },
  {
   "cell_type": "code",
   "execution_count": 55,
   "metadata": {
    "scrolled": true
   },
   "outputs": [
    {
     "name": "stdout",
     "output_type": "stream",
     "text": [
      "测试数据：\n",
      " [[1 1 1 1 1]\n",
      " [1 0 1 1 0]\n",
      " [0 0 0 1 0]\n",
      " [1 1 0 0 1]\n",
      " [0 0 0 0 0]]\n",
      "测试结果：\n",
      " [1. 1. 1. 1. 0.]\n",
      "用以调整lr,epochs:\n",
      " [ 3.31426083  2.48033643  0.74378878  2.24953983 -0.01      ]\n"
     ]
    }
   ],
   "source": [
    "a = np.array([[1,1,1,1,1],\n",
    "             [1,0,1,1,0],\n",
    "             [0,0,0,1,0],\n",
    "             [1,1,0,0,1],\n",
    "             [0,0,0,0,0]])\n",
    "print(\"测试数据：\\n\", a)\n",
    "print(\"测试结果：\\n\", per.predict(a))\n",
    "print(\"用以调整lr,epochs:\\n\",np.dot(a,W)+b)"
   ]
  },
  {
   "cell_type": "code",
   "execution_count": 56,
   "metadata": {},
   "outputs": [
    {
     "name": "stdout",
     "output_type": "stream",
     "text": [
      "[-1.10631627 -1.97297607 -0.14097039  0.03665063  0.46587008]    (5,) 不区分行和列\n",
      "[[-0.14224173  1.58005082 -0.65523859  1.04310415 -1.29172171]]    (1, 5)\n"
     ]
    }
   ],
   "source": [
    "x1 = np.random.randn(5)\n",
    "x2 = np.random.randn(1,5)\n",
    "print(x1, \"  \", x1.shape, \"不区分行和列\")\n",
    "print(x2, \"  \", x2.shape)"
   ]
  }
 ],
 "metadata": {
  "kernelspec": {
   "display_name": "Python 3",
   "language": "python",
   "name": "python3"
  },
  "language_info": {
   "codemirror_mode": {
    "name": "ipython",
    "version": 3
   },
   "file_extension": ".py",
   "mimetype": "text/x-python",
   "name": "python",
   "nbconvert_exporter": "python",
   "pygments_lexer": "ipython3",
   "version": "3.6.2"
  }
 },
 "nbformat": 4,
 "nbformat_minor": 2
}
